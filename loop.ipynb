{
 "cells": [
  {
   "cell_type": "code",
   "execution_count": 7,
   "id": "7964e229",
   "metadata": {},
   "outputs": [
    {
     "name": "stdout",
     "output_type": "stream",
     "text": [
      "this is my first condition\n"
     ]
    }
   ],
   "source": [
    "a=10\n",
    "if a==10:\n",
    "    print('this is my first condition')\n",
    "    \n"
   ]
  },
  {
   "cell_type": "code",
   "execution_count": 9,
   "id": "5e78849c",
   "metadata": {},
   "outputs": [
    {
     "name": "stdout",
     "output_type": "stream",
     "text": [
      "print this if condition is true\n"
     ]
    }
   ],
   "source": [
    "a=10\n",
    "if a<12 :\n",
    "    print('print this if condition is true')"
   ]
  },
  {
   "cell_type": "code",
   "execution_count": 12,
   "id": "603b23ee",
   "metadata": {},
   "outputs": [
    {
     "name": "stdout",
     "output_type": "stream",
     "text": [
      "this is my true condition\n"
     ]
    }
   ],
   "source": [
    "a=10\n",
    "if a!=11:\n",
    "    print('this is my true condition')\n",
    "else :\n",
    "        print('this is my false condition')"
   ]
  },
  {
   "cell_type": "code",
   "execution_count": 13,
   "id": "4801dd67",
   "metadata": {},
   "outputs": [],
   "source": [
    "a=10\n",
    "if a==11:\n",
    "    print('this is my true condition')"
   ]
  },
  {
   "cell_type": "code",
   "execution_count": 14,
   "id": "bd4902dc",
   "metadata": {},
   "outputs": [
    {
     "name": "stdout",
     "output_type": "stream",
     "text": [
      "print this\n"
     ]
    }
   ],
   "source": [
    "a=10\n",
    "if a==11:\n",
    "    print('this is false')\n",
    "else:\n",
    "    print('print this')"
   ]
  },
  {
   "cell_type": "code",
   "execution_count": 16,
   "id": "eaffb028",
   "metadata": {},
   "outputs": [
    {
     "name": "stdout",
     "output_type": "stream",
     "text": [
      "if all condition fails print this\n"
     ]
    }
   ],
   "source": [
    "a=10\n",
    "if a==12:\n",
    "    print('trying to compare 10 with 12')\n",
    "elif a==11:\n",
    "        print('trying to compare 10 with 11')\n",
    "else:\n",
    "    print('if all condition fails print this')"
   ]
  },
  {
   "cell_type": "code",
   "execution_count": 30,
   "id": "16e25e6b",
   "metadata": {},
   "outputs": [
    {
     "name": "stdout",
     "output_type": "stream",
     "text": [
      "for sure i will be able to buy\n"
     ]
    }
   ],
   "source": [
    "price=500\n",
    "if price>500:\n",
    "    print('i will b not able to buy the jacket')\n",
    "elif price<500:\n",
    "    print('i will be able to buy the jacket')\n",
    "elif price==500:\n",
    "    print('for sure i will be able to buy')\n",
    "else:\n",
    "    print('i dont know')"
   ]
  },
  {
   "cell_type": "code",
   "execution_count": 21,
   "id": "76307e22",
   "metadata": {},
   "outputs": [
    {
     "data": {
      "text/plain": [
       "False"
      ]
     },
     "execution_count": 21,
     "metadata": {},
     "output_type": "execute_result"
    }
   ],
   "source": [
    "price>500"
   ]
  },
  {
   "cell_type": "code",
   "execution_count": 22,
   "id": "8c731ef0",
   "metadata": {},
   "outputs": [
    {
     "data": {
      "text/plain": [
       "False"
      ]
     },
     "execution_count": 22,
     "metadata": {},
     "output_type": "execute_result"
    }
   ],
   "source": [
    "price<500"
   ]
  },
  {
   "cell_type": "code",
   "execution_count": 23,
   "id": "66c8eb0c",
   "metadata": {},
   "outputs": [
    {
     "data": {
      "text/plain": [
       "True"
      ]
     },
     "execution_count": 23,
     "metadata": {},
     "output_type": "execute_result"
    }
   ],
   "source": [
    "price==500"
   ]
  },
  {
   "cell_type": "code",
   "execution_count": 31,
   "id": "1fe77651",
   "metadata": {},
   "outputs": [],
   "source": [
    "l=[1,2,3,4,5,6]"
   ]
  },
  {
   "cell_type": "code",
   "execution_count": 32,
   "id": "3404587e",
   "metadata": {},
   "outputs": [
    {
     "data": {
      "text/plain": [
       "True"
      ]
     },
     "execution_count": 32,
     "metadata": {},
     "output_type": "execute_result"
    }
   ],
   "source": [
    "2 in l"
   ]
  },
  {
   "cell_type": "code",
   "execution_count": 36,
   "id": "433b5bcf",
   "metadata": {},
   "outputs": [
    {
     "name": "stdout",
     "output_type": "stream",
     "text": [
      "perform the task\n"
     ]
    }
   ],
   "source": [
    "if 3 in l: print('perform the task')\n",
    "else:\n",
    "    print('donot perform the task')"
   ]
  },
  {
   "cell_type": "code",
   "execution_count": 39,
   "id": "7211c793",
   "metadata": {},
   "outputs": [
    {
     "name": "stdout",
     "output_type": "stream",
     "text": [
      "try to do addition\n",
      "this is a complete new statement\n"
     ]
    }
   ],
   "source": [
    "if 1 in l: \n",
    "    print('try to do addition')\n",
    "elif 2 in l: \n",
    "    print('try to do sub')\n",
    "elif 3 in l: \n",
    "    print('try to do mul')\n",
    "if 4 in l:\n",
    "    print('this is a complete new statement')"
   ]
  },
  {
   "cell_type": "code",
   "execution_count": 40,
   "id": "2cae2189",
   "metadata": {},
   "outputs": [],
   "source": [
    "a=400"
   ]
  },
  {
   "cell_type": "code",
   "execution_count": 41,
   "id": "74048ba8",
   "metadata": {},
   "outputs": [
    {
     "name": "stdout",
     "output_type": "stream",
     "text": [
      "400\n"
     ]
    }
   ],
   "source": [
    "b=input()"
   ]
  },
  {
   "cell_type": "code",
   "execution_count": 42,
   "id": "010d1c23",
   "metadata": {},
   "outputs": [
    {
     "data": {
      "text/plain": [
       "'400'"
      ]
     },
     "execution_count": 42,
     "metadata": {},
     "output_type": "execute_result"
    }
   ],
   "source": [
    "b"
   ]
  },
  {
   "cell_type": "code",
   "execution_count": 43,
   "id": "ad4681eb",
   "metadata": {},
   "outputs": [
    {
     "data": {
      "text/plain": [
       "str"
      ]
     },
     "execution_count": 43,
     "metadata": {},
     "output_type": "execute_result"
    }
   ],
   "source": [
    "type(b)"
   ]
  },
  {
   "cell_type": "code",
   "execution_count": 44,
   "id": "f58e944a",
   "metadata": {},
   "outputs": [
    {
     "name": "stdout",
     "output_type": "stream",
     "text": [
      "400\n"
     ]
    }
   ],
   "source": [
    "b=int(input())"
   ]
  },
  {
   "cell_type": "code",
   "execution_count": 45,
   "id": "04cc4fd3",
   "metadata": {},
   "outputs": [
    {
     "data": {
      "text/plain": [
       "400"
      ]
     },
     "execution_count": 45,
     "metadata": {},
     "output_type": "execute_result"
    }
   ],
   "source": [
    "b"
   ]
  },
  {
   "cell_type": "code",
   "execution_count": 46,
   "id": "bc6be424",
   "metadata": {},
   "outputs": [
    {
     "data": {
      "text/plain": [
       "int"
      ]
     },
     "execution_count": 46,
     "metadata": {},
     "output_type": "execute_result"
    }
   ],
   "source": [
    "type(b)"
   ]
  },
  {
   "cell_type": "code",
   "execution_count": 53,
   "id": "2c946c7d",
   "metadata": {},
   "outputs": [
    {
     "name": "stdout",
     "output_type": "stream",
     "text": [
      "400\n",
      "i will buy something\n",
      "i will not buy anything\n"
     ]
    }
   ],
   "source": [
    "a =int(input())\n",
    "if a < 500 :\n",
    "    print(\"i will buy something\")\n",
    "    if a < 400 :\n",
    "        print('i will buy jacket')\n",
    "    elif a < 300 :\n",
    "        print('i will buy shirt')\n",
    "    else:\n",
    "        print('i will not buy anything')\n",
    "else:\n",
    "    print('i can not buy anything at this price')\n",
    "    "
   ]
  },
  {
   "cell_type": "code",
   "execution_count": 55,
   "id": "e4ade684",
   "metadata": {},
   "outputs": [
    {
     "name": "stdout",
     "output_type": "stream",
     "text": [
      "600\n",
      "i wont be able to buy anything with this price tag\n",
      "lets try someting else \n"
     ]
    }
   ],
   "source": [
    "price  = int(input())\n",
    "if price  <500 :\n",
    "    print(\"i will be able to buy something\")\n",
    "    if price < 400 :\n",
    "        print(\"i will be able to buy a jacket\")\n",
    "    elif price < 300 :\n",
    "        \n",
    "        print(\"i will be able to buy a shirt\")\n",
    "        if price < 200 :\n",
    "            print(\"i would like to do sometign\")\n",
    "    else :\n",
    "        print(\"i wont be able to buy anyting\")\n",
    "else :\n",
    "     print(\"i wont be able to buy anything with this price tag\")\n",
    "     if price >500:\n",
    "        print(\"lets try someting else \")"
   ]
  },
  {
   "cell_type": "code",
   "execution_count": 84,
   "id": "f5b3180f",
   "metadata": {},
   "outputs": [
    {
     "name": "stdout",
     "output_type": "stream",
     "text": [
      "399\n",
      "Not getting into GRE\n",
      "not getting into TOFEL\n",
      "try to do something else\n"
     ]
    }
   ],
   "source": [
    "marks=int(input())\n",
    "if marks > 600:\n",
    "    print(' getting into GRE')\n",
    "else:\n",
    "    print('Not getting into GRE')\n",
    "    if marks<500-400:\n",
    "        print('getting into TOFEL')\n",
    "    else:\n",
    "        print('not getting into TOFEL')\n",
    "        if marks<400:\n",
    "            print('try to do something else')"
   ]
  },
  {
   "cell_type": "code",
   "execution_count": 89,
   "id": "7b62d4ef",
   "metadata": {},
   "outputs": [
    {
     "name": "stdout",
     "output_type": "stream",
     "text": [
      "enter floating number =0\n",
      "number is zero\n"
     ]
    }
   ],
   "source": [
    "val= float(input('enter floating number ='))\n",
    "if val >=0:\n",
    "    if val==0:\n",
    "        print('number is zero')\n",
    "    else:\n",
    "        print('number is positive')\n",
    "else:\n",
    "    print('number is negative')"
   ]
  },
  {
   "cell_type": "code",
   "execution_count": 2,
   "id": "d0827bc0",
   "metadata": {},
   "outputs": [
    {
     "name": "stdout",
     "output_type": "stream",
     "text": [
      "try to do something\n"
     ]
    }
   ],
   "source": [
    "a=10\n",
    "if a<10 or a==10:\n",
    "    print('try to do something')"
   ]
  },
  {
   "cell_type": "code",
   "execution_count": 5,
   "id": "4a50d568",
   "metadata": {},
   "outputs": [],
   "source": [
    "a=10\n",
    "if a<10 and a>10:\n",
    "    print('lets do something')"
   ]
  },
  {
   "cell_type": "code",
   "execution_count": 6,
   "id": "634ed563",
   "metadata": {},
   "outputs": [],
   "source": [
    "a=10\n",
    "if a<10 and a==10:\n",
    "    print('lets do something')"
   ]
  },
  {
   "cell_type": "code",
   "execution_count": 10,
   "id": "66aa6fe4",
   "metadata": {},
   "outputs": [
    {
     "name": "stdout",
     "output_type": "stream",
     "text": [
      "try to do something\n"
     ]
    }
   ],
   "source": [
    "a=10\n",
    "b=12\n",
    "c=14\n",
    "d=11\n",
    "if a==9 or b==12 and c==14 and d==11:\n",
    "    print('try to do something')"
   ]
  },
  {
   "cell_type": "code",
   "execution_count": 11,
   "id": "12904bdf",
   "metadata": {},
   "outputs": [],
   "source": [
    "d={'key1': 'value', 'key2':' vipin', 'key3':' thane'}\n"
   ]
  },
  {
   "cell_type": "code",
   "execution_count": 12,
   "id": "c4935f7b",
   "metadata": {},
   "outputs": [
    {
     "data": {
      "text/plain": [
       "{'key1': 'value', 'key2': ' vipin', 'key3': ' thane'}"
      ]
     },
     "execution_count": 12,
     "metadata": {},
     "output_type": "execute_result"
    }
   ],
   "source": [
    "d"
   ]
  },
  {
   "cell_type": "code",
   "execution_count": 26,
   "id": "3f6614aa",
   "metadata": {},
   "outputs": [
    {
     "name": "stdout",
     "output_type": "stream",
     "text": [
      "all values are not verified\n"
     ]
    }
   ],
   "source": [
    "d={'key1': 'value', 'key2':' vipin', 'key3':' thane'}\n",
    "if d['key1']=='value'and d['key2']==' Vipin'and d['key3']==' thane':\n",
    "    print('all values are verified')\n",
    "    print(d.values())\n",
    "else:\n",
    "    print('all values are not verified')"
   ]
  },
  {
   "cell_type": "code",
   "execution_count": 27,
   "id": "448b510d",
   "metadata": {},
   "outputs": [],
   "source": [
    "l=[1,2,3,4,5,'vipin', 45.345]"
   ]
  },
  {
   "cell_type": "code",
   "execution_count": 28,
   "id": "74b58ca8",
   "metadata": {},
   "outputs": [
    {
     "name": "stdout",
     "output_type": "stream",
     "text": [
      "1\n",
      "2\n",
      "3\n",
      "4\n",
      "5\n",
      "vipin\n",
      "45.345\n"
     ]
    }
   ],
   "source": [
    "for i in l:\n",
    "\n",
    "    print(i)"
   ]
  },
  {
   "cell_type": "code",
   "execution_count": 29,
   "id": "c5fb93a8",
   "metadata": {},
   "outputs": [
    {
     "data": {
      "text/plain": [
       "[1, 2, 3, 4, 5, 'vipin', 45.345]"
      ]
     },
     "execution_count": 29,
     "metadata": {},
     "output_type": "execute_result"
    }
   ],
   "source": [
    "l"
   ]
  },
  {
   "cell_type": "code",
   "execution_count": 30,
   "id": "01844a94",
   "metadata": {},
   "outputs": [
    {
     "name": "stdout",
     "output_type": "stream",
     "text": [
      "2\n",
      "3\n",
      "4\n",
      "5\n",
      "6\n"
     ]
    },
    {
     "ename": "TypeError",
     "evalue": "can only concatenate str (not \"int\") to str",
     "output_type": "error",
     "traceback": [
      "\u001b[1;31m---------------------------------------------------------------------------\u001b[0m",
      "\u001b[1;31mTypeError\u001b[0m                                 Traceback (most recent call last)",
      "Input \u001b[1;32mIn [30]\u001b[0m, in \u001b[0;36m<cell line: 1>\u001b[1;34m()\u001b[0m\n\u001b[0;32m      1\u001b[0m \u001b[38;5;28;01mfor\u001b[39;00m i \u001b[38;5;129;01min\u001b[39;00m l:\n\u001b[1;32m----> 3\u001b[0m     \u001b[38;5;28mprint\u001b[39m(\u001b[43mi\u001b[49m\u001b[38;5;241;43m+\u001b[39;49m\u001b[38;5;241;43m1\u001b[39;49m)\n",
      "\u001b[1;31mTypeError\u001b[0m: can only concatenate str (not \"int\") to str"
     ]
    }
   ],
   "source": [
    "for i in l:\n",
    "\n",
    "    print(i+1)"
   ]
  },
  {
   "cell_type": "code",
   "execution_count": 43,
   "id": "be22e016",
   "metadata": {},
   "outputs": [
    {
     "name": "stdout",
     "output_type": "stream",
     "text": [
      "2\n",
      "3\n",
      "4\n",
      "5\n",
      "6\n",
      "vipin1\n",
      "46.345\n"
     ]
    }
   ],
   "source": [
    "for i in l:\n",
    "    if type(i)==int or type(i)== float:\n",
    "        print(i+1)\n",
    "    elif type(i)==str:\n",
    "        print(i+str(1))\n",
    "    "
   ]
  },
  {
   "cell_type": "code",
   "execution_count": 49,
   "id": "2330ab82",
   "metadata": {},
   "outputs": [
    {
     "name": "stdout",
     "output_type": "stream",
     "text": [
      "2\n",
      "3\n",
      "4\n",
      "5\n",
      "6\n",
      "7\n",
      "8\n",
      "9\n",
      "10\n",
      "11\n"
     ]
    }
   ],
   "source": [
    "a=[1,2,3,4,5,6,7,8,9,10]\n",
    "for i in a:\n",
    "    print(i+1)"
   ]
  },
  {
   "cell_type": "code",
   "execution_count": 52,
   "id": "1c565df3",
   "metadata": {},
   "outputs": [],
   "source": [
    "l1=[]\n",
    "for i in l:\n",
    "    if type(i)==int:\n",
    "        l1.append(i)"
   ]
  },
  {
   "cell_type": "code",
   "execution_count": null,
   "id": "e4807209",
   "metadata": {},
   "outputs": [],
   "source": []
  }
 ],
 "metadata": {
  "kernelspec": {
   "display_name": "Python 3 (ipykernel)",
   "language": "python",
   "name": "python3"
  },
  "language_info": {
   "codemirror_mode": {
    "name": "ipython",
    "version": 3
   },
   "file_extension": ".py",
   "mimetype": "text/x-python",
   "name": "python",
   "nbconvert_exporter": "python",
   "pygments_lexer": "ipython3",
   "version": "3.9.12"
  }
 },
 "nbformat": 4,
 "nbformat_minor": 5
}
